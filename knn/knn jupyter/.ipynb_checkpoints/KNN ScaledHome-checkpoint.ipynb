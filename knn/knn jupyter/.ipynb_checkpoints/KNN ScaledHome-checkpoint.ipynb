{
 "cells": [
  {
   "cell_type": "code",
   "execution_count": 128,
   "metadata": {},
   "outputs": [],
   "source": [
    "# from numpy import genfromtxt\n",
    "import numpy as np\n",
    "import os\n",
    "import pandas as pd\n",
    "\n",
    "from sklearn.model_selection import train_test_split\n",
    "from sklearn.metrics import mean_squared_error\n",
    "from sklearn.neighbors import KNeighborsRegressor"
   ]
  },
  {
   "cell_type": "code",
   "execution_count": 129,
   "metadata": {},
   "outputs": [],
   "source": [
    "def read_data_pandas(data_path, cols_to_drop):\n",
    "    data_frame = pd.read_csv(data_path)\n",
    "    #data_frame = data_frame.set_index(pd.DatetimeIndex(data_frame['TIME']))\n",
    "    data_frame = data_frame.drop(columns=cols_to_drop)\n",
    "    return data_frame\n",
    "\n",
    "def readFileFromCSVtoDictionary(path_to_file, file_name, cols_to_drop=[]): \n",
    "    file_uri = os.path.join(path_to_file, file_name)\n",
    "    df = read_data_pandas(file_uri, cols_to_drop)\n",
    "    dictionary = dict()\n",
    "    for key in df.keys():\n",
    "        dictionary[key] = list(df[key])\n",
    "    return dictionary\n",
    "\n",
    "def createListsPairs(path_to_file, file_name, col_list1, col_list2, prediction_index=0):\n",
    "    out_list = list()\n",
    "    dictionary = readFileFromCSVtoDictionary(path_to_file, file_name)\n",
    "    # print(len(dictionary.items()))\n",
    "    # print(len(dictionary[col1]))\n",
    "    for index in range(len(dictionary[col_list1[0]])-prediction_index):\n",
    "        list1 = list()\n",
    "        list2 = list()\n",
    "        for col1 in col_list1:\n",
    "            list1.append(dictionary[col1][index])\n",
    "        for col2 in col_list2:\n",
    "            list2.append(dictionary[col2][index+prediction_index])\n",
    "        out_list.append((list1, list2))\n",
    "    return out_list"
   ]
  },
  {
   "cell_type": "code",
   "execution_count": 130,
   "metadata": {},
   "outputs": [
    {
     "name": "stdout",
     "output_type": "stream",
     "text": [
      "\n",
      "[([53.0, 23.0], [25.0]), ([57.0, 21.0], [25.0]), ([57.0, 21.0], [25.0]), ([57.0, 21.0], [26.0]), ([57.0, 21.0], [26.0]), ([57.0, 21.0], [26.0]), ([57.0, 21.0], [26.0]), ([58.0, 22.0], [26.0]), ([57.0, 22.0], [27.0]), ([55.0, 23.0], [27.0]), ([52.0, 24.0], [27.0]), ([51.0, 24.0], [28.0]), ([48.0, 25.0], [27.0]), ([48.0, 25.0], [28.0]), ([47.0, 26.0], [28.0]), ([46.0, 26.0], [28.0]), ([44.0, 27.0], [28.0]), ([42.0, 27.0], [28.0]), ([40.0, 28.0], [28.0]), ([40.0, 28.0], [28.0]), ([39.0, 29.0], [28.0]), ([38.0, 29.0], [28.0]), ([37.0, 30.0], [28.0]), ([35.0, 30.0], [28.0]), ([35.0, 31.0], [28.0]), ([34.0, 31.0], [28.0]), ([32.0, 32.0], [28.0]), ([32.0, 32.0], [28.0]), ([32.0, 32.0], [27.0]), ([33.0, 31.0], [27.0]), ([33.0, 31.0], [27.0]), ([34.0, 31.0], [27.0]), ([33.0, 30.0], [27.0]), ([35.0, 30.0], [27.0]), ([35.0, 30.0], [28.0]), ([36.0, 29.0], [28.0]), ([37.0, 28.0], [28.0]), ([38.0, 27.0], [28.0]), ([41.0, 26.0], [28.0]), ([42.0, 25.0], [28.0]), ([48.0, 24.0], [28.0]), ([49.0, 24.0], [28.0]), ([49.0, 24.0], [28.0]), ([48.0, 25.0], [28.0]), ([46.0, 25.0], [27.0]), ([46.0, 25.0], [27.0]), ([45.0, 26.0], [28.0]), ([44.0, 26.0], [28.0]), ([44.0, 26.0], [28.0]), ([44.0, 26.0], [28.0]), ([44.0, 26.0], [28.0]), ([44.0, 26.0], [28.0]), ([44.0, 26.0], [28.0]), ([44.0, 26.0], [28.0]), ([43.0, 27.0], [28.0]), ([42.0, 27.0], [28.0]), ([41.0, 28.0], [28.0]), ([41.0, 28.0], [28.0]), ([40.0, 28.0], [28.0]), ([45.0, 25.0], [28.0]), ([48.0, 24.0], [28.0]), ([48.0, 24.0], [28.0]), ([51.0, 23.0], [28.0]), ([51.0, 23.0], [29.0]), ([51.0, 23.0], [29.0]), ([51.0, 23.0], [29.0]), ([51.0, 23.0], [29.0]), ([51.0, 23.0], [29.0]), ([49.0, 24.0], [29.0]), ([46.0, 26.0], [29.0]), ([46.0, 26.0], [29.0]), ([42.0, 27.0], [29.0]), ([41.0, 28.0], [29.0]), ([40.0, 28.0], [29.0]), ([39.0, 29.0], [29.0]), ([38.0, 29.0], [29.0]), ([41.0, 27.0], [29.0]), ([41.0, 27.0], [29.0]), ([43.0, 26.0], [29.0]), ([44.0, 25.0], [29.0]), ([44.0, 25.0], [29.0]), ([44.0, 26.0], [29.0]), ([42.0, 27.0], [29.0]), ([42.0, 27.0], [29.0]), ([42.0, 28.0], [29.0]), ([40.0, 28.0], [29.0]), ([40.0, 27.0], [29.0]), ([42.0, 27.0], [29.0]), ([43.0, 26.0], [29.0]), ([44.0, 25.0], [29.0]), ([45.0, 25.0], [29.0]), ([45.0, 25.0], [29.0]), ([46.0, 25.0], [29.0]), ([46.0, 25.0], [29.0]), ([46.0, 25.0], [29.0]), ([45.0, 25.0], [30.0]), ([45.0, 25.0], [30.0]), ([46.0, 25.0], [30.0]), ([46.0, 25.0], [30.0]), ([48.0, 24.0], [30.0]), ([47.0, 24.0], [30.0]), ([47.0, 24.0], [30.0]), ([47.0, 25.0], [29.0]), ([46.0, 26.0], [29.0]), ([44.0, 26.0], [29.0]), ([43.0, 27.0], [29.0]), ([42.0, 27.0], [29.0]), ([44.0, 26.0], [29.0]), ([44.0, 25.0], [29.0]), ([45.0, 25.0], [29.0]), ([46.0, 25.0], [28.0]), ([48.0, 24.0], [28.0]), ([52.0, 23.0], [28.0]), ([52.0, 23.0], [29.0]), ([53.0, 23.0], [29.0]), ([53.0, 22.0], [29.0]), ([53.0, 23.0], [29.0]), ([53.0, 23.0], [29.0]), ([52.0, 23.0], [28.0]), ([52.0, 23.0], [28.0]), ([49.0, 24.0], [28.0]), ([49.0, 24.0], [29.0]), ([47.0, 25.0], [29.0]), ([46.0, 26.0], [29.0]), ([44.0, 26.0], [29.0]), ([42.0, 27.0], [29.0]), ([42.0, 27.0], [28.0]), ([43.0, 26.0], [28.0]), ([43.0, 26.0], [28.0]), ([44.0, 26.0], [28.0]), ([45.0, 25.0], [28.0]), ([46.0, 25.0], [28.0]), ([47.0, 24.0], [28.0]), ([48.0, 24.0], [29.0]), ([53.0, 22.0], [29.0]), ([54.0, 22.0], [29.0]), ([53.0, 23.0], [29.0]), ([53.0, 23.0], [29.0]), ([52.0, 23.0], [29.0]), ([52.0, 23.0], [29.0]), ([52.0, 23.0], [29.0]), ([51.0, 23.0], [29.0]), ([51.0, 23.0], [28.0]), ([50.0, 24.0], [28.0]), ([48.0, 24.0], [28.0]), ([46.0, 25.0], [28.0]), ([44.0, 27.0], [28.0]), ([43.0, 27.0], [28.0]), ([42.0, 27.0], [27.0]), ([42.0, 27.0], [27.0]), ([41.0, 27.0], [27.0]), ([41.0, 27.0], [27.0]), ([42.0, 26.0], [27.0]), ([45.0, 25.0], [27.0]), ([47.0, 24.0], [27.0]), ([51.0, 23.0], [27.0]), ([53.0, 22.0], [27.0]), ([55.0, 22.0], [27.0]), ([55.0, 22.0], [27.0]), ([55.0, 22.0], [27.0]), ([55.0, 22.0], [28.0]), ([55.0, 22.0], [28.0]), ([55.0, 22.0], [28.0]), ([55.0, 22.0], [28.0]), ([55.0, 22.0], [28.0]), ([54.0, 22.0], [28.0]), ([54.0, 23.0], [29.0]), ([51.0, 24.0], [29.0]), ([50.0, 24.0], [29.0]), ([49.0, 24.0], [29.0]), ([47.0, 25.0], [29.0]), ([46.0, 25.0], [28.0]), ([46.0, 25.0], [28.0]), ([47.0, 24.0], [28.0]), ([47.0, 24.0], [28.0]), ([48.0, 24.0], [28.0]), ([49.0, 24.0], [28.0]), ([52.0, 23.0], [28.0]), ([52.0, 23.0], [28.0]), ([53.0, 22.0], [28.0]), ([55.0, 22.0], [28.0]), ([55.0, 22.0], [28.0]), ([56.0, 22.0], [27.0]), ([56.0, 22.0], [27.0]), ([56.0, 22.0], [27.0]), ([56.0, 22.0], [27.0]), ([56.0, 22.0], [27.0]), ([57.0, 22.0], [27.0]), ([56.0, 21.0], [27.0]), ([56.0, 21.0], [27.0]), ([56.0, 21.0], [27.0]), ([56.0, 21.0], [27.0]), ([56.0, 21.0], [27.0]), ([56.0, 21.0], [27.0]), ([56.0, 21.0], [28.0]), ([56.0, 21.0], [28.0]), ([56.0, 21.0], [28.0]), ([57.0, 22.0], [28.0]), ([56.0, 22.0], [28.0]), ([51.0, 24.0], [28.0]), ([50.0, 24.0], [28.0]), ([49.0, 24.0], [28.0]), ([49.0, 24.0], [28.0]), ([48.0, 24.0], [28.0]), ([49.0, 24.0], [28.0]), ([50.0, 24.0], [28.0]), ([50.0, 24.0], [28.0]), ([50.0, 24.0], [28.0]), ([49.0, 24.0], [28.0]), ([48.0, 25.0], [28.0]), ([47.0, 25.0], [28.0]), ([46.0, 26.0], [28.0]), ([45.0, 26.0], [28.0]), ([45.0, 26.0], [28.0]), ([47.0, 24.0], [28.0]), ([48.0, 24.0], [28.0]), ([49.0, 23.0], [28.0]), ([52.0, 23.0], [28.0]), ([52.0, 23.0], [29.0]), ([52.0, 23.0], [29.0]), ([52.0, 23.0], [29.0]), ([52.0, 23.0], [29.0]), ([51.0, 23.0], [29.0]), ([50.0, 24.0], [29.0]), ([47.0, 25.0], [29.0]), ([46.0, 26.0], [29.0]), ([43.0, 27.0], [29.0]), ([43.0, 27.0], [29.0]), ([41.0, 27.0], [29.0]), ([41.0, 28.0], [29.0]), ([40.0, 29.0], [30.0]), ([39.0, 29.0], [30.0]), ([40.0, 27.0], [30.0]), ([41.0, 27.0], [30.0]), ([44.0, 26.0], [30.0]), ([44.0, 25.0], [30.0]), ([45.0, 25.0], [30.0]), ([44.0, 26.0], [30.0]), ([43.0, 27.0], [30.0]), ([42.0, 27.0], [30.0]), ([41.0, 28.0], [30.0]), ([40.0, 29.0], [30.0]), ([38.0, 29.0], [29.0]), ([37.0, 30.0], [29.0]), ([36.0, 30.0], [29.0]), ([35.0, 30.0], [29.0]), ([34.0, 31.0], [29.0]), ([34.0, 31.0], [29.0]), ([34.0, 31.0], [29.0]), ([34.0, 31.0], [29.0]), ([33.0, 30.0], [29.0]), ([34.0, 30.0], [29.0]), ([34.0, 30.0], [29.0]), ([34.0, 30.0], [29.0]), ([35.0, 30.0], [29.0]), ([35.0, 30.0], [29.0]), ([36.0, 29.0], [30.0]), ([36.0, 30.0], [30.0]), ([35.0, 30.0], [30.0]), ([35.0, 31.0], [30.0]), ([35.0, 31.0], [30.0]), ([33.0, 31.0], [30.0]), ([33.0, 32.0], [30.0]), ([32.0, 32.0], [30.0]), ([33.0, 32.0], [30.0]), ([34.0, 33.0], [30.0]), ([33.0, 33.0], [31.0]), ([32.0, 33.0], [31.0]), ([33.0, 31.0], [31.0]), ([32.0, 30.0], [31.0]), ([36.0, 29.0], [31.0]), ([39.0, 27.0], [31.0]), ([41.0, 26.0], [31.0]), ([43.0, 26.0], [31.0]), ([44.0, 25.0], [31.0])]\n"
     ]
    }
   ],
   "source": [
    "list_of_pairs = createListsPairs(\"\", \"2_5_2020_random_actions_1h_every_60s.csv\", [\"OUT_H[%]\",\"OUT_T[*C]\"], [\"T6[*C]\"],8)\n",
    "# print(list_of_pairs[:10])\n",
    "print()\n",
    "print(list_of_pairs)"
   ]
  },
  {
   "cell_type": "code",
   "execution_count": 132,
   "metadata": {},
   "outputs": [],
   "source": [
    "x = list()\n",
    "y = list()\n",
    "for pair in list_of_pairs:\n",
    "    x.append(pair[0])\n",
    "    y.append(pair[1])"
   ]
  },
  {
   "cell_type": "code",
   "execution_count": 134,
   "metadata": {},
   "outputs": [
    {
     "name": "stdout",
     "output_type": "stream",
     "text": [
      "[34.0, 30.0] [29.0]\n"
     ]
    }
   ],
   "source": [
    "X_train, X_test, y_train, y_test = train_test_split(x,y, test_size=0.33, random_state=42)\n",
    "\n",
    "print(X_train[0], y_train[0])"
   ]
  },
  {
   "cell_type": "code",
   "execution_count": 136,
   "metadata": {},
   "outputs": [],
   "source": [
    "KNR = KNeighborsRegressor(180, metric=\"manhattan\", weights=\"uniform\", leaf_size=30)"
   ]
  },
  {
   "cell_type": "code",
   "execution_count": 138,
   "metadata": {},
   "outputs": [
    {
     "data": {
      "text/plain": [
       "KNeighborsRegressor(algorithm='auto', leaf_size=30, metric='manhattan',\n",
       "                    metric_params=None, n_jobs=None, n_neighbors=180, p=2,\n",
       "                    weights='uniform')"
      ]
     },
     "execution_count": 138,
     "metadata": {},
     "output_type": "execute_result"
    }
   ],
   "source": [
    "KNR.fit(X_train, y_train)"
   ]
  },
  {
   "cell_type": "code",
   "execution_count": 140,
   "metadata": {},
   "outputs": [
    {
     "name": "stdout",
     "output_type": "stream",
     "text": [
      "[33. 31.] [29.0]\n"
     ]
    }
   ],
   "source": [
    "test = np.array(X_test[0])\n",
    "test1 = test.reshape(1,-1)\n",
    "\n",
    "true = y_test[1]\n",
    "print(test, true)"
   ]
  },
  {
   "cell_type": "code",
   "execution_count": 142,
   "metadata": {},
   "outputs": [
    {
     "data": {
      "text/plain": [
       "array([[28.50555556]])"
      ]
     },
     "execution_count": 142,
     "metadata": {},
     "output_type": "execute_result"
    }
   ],
   "source": [
    "KNR.predict(test1)"
   ]
  },
  {
   "cell_type": "code",
   "execution_count": 161,
   "metadata": {},
   "outputs": [],
   "source": [
    "def calcolateMSE(y_true, y_pred):\n",
    "    #     print((y_true, y_pred.tolist()))\n",
    "    return mean_squared_error(y_true, y_pred)\n",
    "\n",
    "def predictWithKnnInput(knn, train_x, train_y, to_be_predicted):\n",
    "    return knn.predict(to_be_predicted)\n",
    "\n",
    "def instantiateKnn(metricgiven, n_neighbors, weights=\"uniform\", algorithm=\"auto\"):\n",
    "    knn = KNeighborsRegressor(n_neighbors, metric=metricgiven, weights=weights, algorithm=algorithm)\n",
    "    return knn\n",
    "\n",
    "def predictWithBestParameters(train_x, train_y, test_x, test_y, metrics_list, weights_list):\n",
    "    best = (None, {\"prediction\": None, \"sse\": None, \"n_neighbors\": None, \"metric\": None, \"weights\": None})\n",
    "    for weights in weights_list:\n",
    "        for n_neighbors in range(1, train_x.shape[0]+1):\n",
    "            for metric in metrics_list:\n",
    "                #                 print(f\"{metric} {n_neighbors} {weights}\")\n",
    "                knn_i = instantiateKnn(metric, n_neighbors, weights)\n",
    "                #                 train_x_1 = train_x.copy()\n",
    "                #                 train_y_1 = train_y.copy()\n",
    "                #                 print(train_x.shape, train_y.shape)\n",
    "                knn_i.fit(train_x, train_y)\n",
    "                sse = 0\n",
    "                for index in range(len(test_x)):\n",
    "                    prediction = knn_i.predict(np.array(test_x[index]).reshape(1,-1))\n",
    "                    mse = calcolateMSE([test_y[index]],prediction)\n",
    "                    sse += mse\n",
    "                    #                     print(best)\n",
    "                    if (best[1][\"sse\"] == None or sse < best[1][\"sse\"]):\n",
    "                        best = (knn_i, {\"prediction\": prediction, \"sse\": sse, \"n_neighbors\": n_neighbors, \"metric\": metric, \"weights\": weights}) \n",
    "    return best"
   ]
  },
  {
   "cell_type": "code",
   "execution_count": 163,
   "metadata": {},
   "outputs": [],
   "source": [
    "# metrics which need parameters cannot be run with auto -> ball_tree seems problematic\n",
    "metrics_list = [\"chebyshev\", \"minkowski\", \"manhattan\", \"euclidean\"]\n",
    "weights_list = [\"uniform\", \"distance\"]"
   ]
  },
  {
   "cell_type": "code",
   "execution_count": 164,
   "metadata": {},
   "outputs": [
    {
     "name": "stdout",
     "output_type": "stream",
     "text": [
      "(KNeighborsRegressor(algorithm='auto', leaf_size=30, metric='chebyshev',\n",
      "                    metric_params=None, n_jobs=None, n_neighbors=1, p=2,\n",
      "                    weights='uniform'), {'prediction': array([[27.]]), 'sse': 0.0, 'n_neighbors': 1, 'metric': 'chebyshev', 'weights': 'uniform'})\n"
     ]
    }
   ],
   "source": [
    "best_parameters = predictWithBestParameters(np.array(X_train), y_train, X_test, y_test, metrics_list, weights_list)\n",
    "print(best_parameters)"
   ]
  },
  {
   "cell_type": "code",
   "execution_count": 104,
   "metadata": {},
   "outputs": [
    {
     "name": "stdout",
     "output_type": "stream",
     "text": [
      "[[33. 31.]] [27.0]\n"
     ]
    }
   ],
   "source": [
    "test2 = np.array(X_test[0]).reshape(1,-1)\n",
    "true2 = y_test[0]\n",
    "print(test2, true2)"
   ]
  },
  {
   "cell_type": "code",
   "execution_count": 106,
   "metadata": {},
   "outputs": [
    {
     "data": {
      "text/plain": [
       "array([[29.]])"
      ]
     },
     "execution_count": 106,
     "metadata": {},
     "output_type": "execute_result"
    }
   ],
   "source": [
    "best_parameters[0].predict(test2)"
   ]
  }
 ],
 "metadata": {
  "kernelspec": {
   "display_name": "Python 3",
   "language": "python",
   "name": "python3"
  },
  "language_info": {
   "codemirror_mode": {
    "name": "ipython",
    "version": 3
   },
   "file_extension": ".py",
   "mimetype": "text/x-python",
   "name": "python",
   "nbconvert_exporter": "python",
   "pygments_lexer": "ipython3",
   "version": "3.7.4"
  }
 },
 "nbformat": 4,
 "nbformat_minor": 2
}
